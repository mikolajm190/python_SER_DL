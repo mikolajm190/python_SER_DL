{
 "cells": [
  {
   "cell_type": "markdown",
   "id": "1de5ee4e",
   "metadata": {},
   "source": [
    "# Data preprocessing"
   ]
  },
  {
   "cell_type": "markdown",
   "id": "76426211",
   "metadata": {},
   "source": [
    "## emotion label + path to file"
   ]
  },
  {
   "cell_type": "code",
   "execution_count": 31,
   "id": "60e52808",
   "metadata": {},
   "outputs": [
    {
     "data": {
      "text/html": [
       "<div>\n",
       "<style scoped>\n",
       "    .dataframe tbody tr th:only-of-type {\n",
       "        vertical-align: middle;\n",
       "    }\n",
       "\n",
       "    .dataframe tbody tr th {\n",
       "        vertical-align: top;\n",
       "    }\n",
       "\n",
       "    .dataframe thead th {\n",
       "        text-align: right;\n",
       "    }\n",
       "</style>\n",
       "<table border=\"1\" class=\"dataframe\">\n",
       "  <thead>\n",
       "    <tr style=\"text-align: right;\">\n",
       "      <th></th>\n",
       "      <th>path</th>\n",
       "      <th>emotion</th>\n",
       "    </tr>\n",
       "  </thead>\n",
       "  <tbody>\n",
       "    <tr>\n",
       "      <th>0</th>\n",
       "      <td>../data/tess/oaf/OAF_pike_sad.wav</td>\n",
       "      <td>sad</td>\n",
       "    </tr>\n",
       "    <tr>\n",
       "      <th>1</th>\n",
       "      <td>../data/tess/oaf/OAF_bought_disgust.wav</td>\n",
       "      <td>disgust</td>\n",
       "    </tr>\n",
       "    <tr>\n",
       "      <th>2</th>\n",
       "      <td>../data/tess/oaf/OAF_gin_sad.wav</td>\n",
       "      <td>sad</td>\n",
       "    </tr>\n",
       "    <tr>\n",
       "      <th>3</th>\n",
       "      <td>../data/tess/oaf/OAF_learn_angry.wav</td>\n",
       "      <td>angry</td>\n",
       "    </tr>\n",
       "    <tr>\n",
       "      <th>4</th>\n",
       "      <td>../data/tess/oaf/OAF_moon_neutral.wav</td>\n",
       "      <td>neutral</td>\n",
       "    </tr>\n",
       "    <tr>\n",
       "      <th>...</th>\n",
       "      <td>...</td>\n",
       "      <td>...</td>\n",
       "    </tr>\n",
       "    <tr>\n",
       "      <th>2795</th>\n",
       "      <td>../data/tess/yaf/YAF_cause_fear.wav</td>\n",
       "      <td>fear</td>\n",
       "    </tr>\n",
       "    <tr>\n",
       "      <th>2796</th>\n",
       "      <td>../data/tess/yaf/YAF_hate_ps.wav</td>\n",
       "      <td>surprised</td>\n",
       "    </tr>\n",
       "    <tr>\n",
       "      <th>2797</th>\n",
       "      <td>../data/tess/yaf/YAF_gun_happy.wav</td>\n",
       "      <td>happy</td>\n",
       "    </tr>\n",
       "    <tr>\n",
       "      <th>2798</th>\n",
       "      <td>../data/tess/yaf/YAF_chair_disgust.wav</td>\n",
       "      <td>disgust</td>\n",
       "    </tr>\n",
       "    <tr>\n",
       "      <th>2799</th>\n",
       "      <td>../data/tess/yaf/YAF_wife_angry.wav</td>\n",
       "      <td>angry</td>\n",
       "    </tr>\n",
       "  </tbody>\n",
       "</table>\n",
       "<p>2800 rows × 2 columns</p>\n",
       "</div>"
      ],
      "text/plain": [
       "                                         path    emotion\n",
       "0           ../data/tess/oaf/OAF_pike_sad.wav        sad\n",
       "1     ../data/tess/oaf/OAF_bought_disgust.wav    disgust\n",
       "2            ../data/tess/oaf/OAF_gin_sad.wav        sad\n",
       "3        ../data/tess/oaf/OAF_learn_angry.wav      angry\n",
       "4       ../data/tess/oaf/OAF_moon_neutral.wav    neutral\n",
       "...                                       ...        ...\n",
       "2795      ../data/tess/yaf/YAF_cause_fear.wav       fear\n",
       "2796         ../data/tess/yaf/YAF_hate_ps.wav  surprised\n",
       "2797       ../data/tess/yaf/YAF_gun_happy.wav      happy\n",
       "2798   ../data/tess/yaf/YAF_chair_disgust.wav    disgust\n",
       "2799      ../data/tess/yaf/YAF_wife_angry.wav      angry\n",
       "\n",
       "[2800 rows x 2 columns]"
      ]
     },
     "execution_count": 31,
     "metadata": {},
     "output_type": "execute_result"
    }
   ],
   "source": [
    "#!/home/judehey/miniconda3/envs/myenv/bin/python\n",
    "\n",
    "import pandas as pd\n",
    "import numpy as np\n",
    "import os\n",
    "\n",
    "pathToData=\"../data/tess/\"\n",
    "imgsPath=\"../imgs/tess/\"\n",
    "modelsPath=\"../models/tess/\"\n",
    "\n",
    "def load_data(path):\n",
    "    emotion, file_path = [], []\n",
    "    \n",
    "    # iterate over utterances in speech folder\n",
    "    for folder in os.listdir(path):\n",
    "        for file in os.listdir(path + folder):\n",
    "            emotion.append(file.split(\"_\")[2].split(\".\")[0])\n",
    "            file_path.append(path + folder + \"/\" + file)\n",
    "                \n",
    "    # prepare dataframe\n",
    "    audio_df = pd.DataFrame(emotion)\n",
    "    audio_df = audio_df.replace({\"ps\": \"surprised\"})\n",
    "    \n",
    "    # concatenate file paths to emotion data frame\n",
    "    audio_df = pd.concat([pd.DataFrame(file_path), audio_df], axis=1)\n",
    "    audio_df.columns = ['path', 'emotion']\n",
    "    \n",
    "    return audio_df\n",
    "\n",
    "df = load_data(pathToData)\n",
    "df"
   ]
  },
  {
   "cell_type": "markdown",
   "id": "cb2180fe",
   "metadata": {},
   "source": [
    "# Plots"
   ]
  },
  {
   "cell_type": "markdown",
   "id": "5dddea66",
   "metadata": {},
   "source": [
    "## class distribution"
   ]
  },
  {
   "cell_type": "code",
   "execution_count": 32,
   "id": "8664ed9b",
   "metadata": {},
   "outputs": [
    {
     "name": "stdout",
     "output_type": "stream",
     "text": [
      "['sad' 'disgust' 'angry' 'neutral' 'fear' 'happy' 'surprised']\n"
     ]
    },
    {
     "data": {
      "image/png": "[encoded data removed]",
      "text/plain": [
       "<Figure size 432x288 with 1 Axes>"
      ]
     },
     "metadata": {},
     "output_type": "display_data"
    }
   ],
   "source": [
    "import seaborn as sns\n",
    "import matplotlib.pyplot as plt\n",
    "\n",
    "# class imbalance plot\n",
    "print(df['emotion'].unique())\n",
    "sns.set_theme(style='darkgrid')\n",
    "sns.countplot(x = 'emotion', data = df)\n",
    "plt.title('Class distribution')\n",
    "plt.savefig(imgsPath + 'class_distribution.png')\n",
    "plt.show()"
   ]
  },
  {
   "cell_type": "markdown",
   "id": "97c7cf32",
   "metadata": {},
   "source": [
    "## waveform"
   ]
  },
  {
   "cell_type": "code",
   "execution_count": 33,
   "id": "53faa3bc",
   "metadata": {},
   "outputs": [
    {
     "data": {
      "image/png": "[encoded data removed]",
      "text/plain": [
       "<Figure size 576x288 with 1 Axes>"
      ]
     },
     "metadata": {},
     "output_type": "display_data"
    }
   ],
   "source": [
    "import librosa.display\n",
    "\n",
    "# waveplot\n",
    "wavf, sr = librosa.load('../data/tess/yaf/YAF_gun_happy.wav')\n",
    "\n",
    "plt.figure(figsize = (8, 4))\n",
    "librosa.display.waveshow(wavf, sr = sr)\n",
    "plt.title('Waveplot - young woman actor happiness')\n",
    "plt.savefig(imgsPath + 'waveplot_yaf_happiness.png')\n",
    "plt.show()"
   ]
  },
  {
   "cell_type": "markdown",
   "id": "55f28c70",
   "metadata": {},
   "source": [
    "## log-mel spectrogram"
   ]
  },
  {
   "cell_type": "code",
   "execution_count": 34,
   "id": "3f00bfbd",
   "metadata": {},
   "outputs": [
    {
     "data": {
      "image/png": "[encoded data removed]",
      "text/plain": [
       "<Figure size 432x288 with 1 Axes>"
      ]
     },
     "metadata": {},
     "output_type": "display_data"
    }
   ],
   "source": [
    "# log-mel spectrogram\n",
    "spectrogram = librosa.feature.melspectrogram(y=wavf, sr=sr, n_mels=128, fmax=8000)\n",
    "spectrogram = librosa.power_to_db(spectrogram)\n",
    "\n",
    "librosa.display.specshow(spectrogram, y_axis='mel', fmax=8000, x_axis='time')\n",
    "plt.title('Mel spectrogram - young woman actor happiness')\n",
    "plt.savefig(imgsPath + 'mel_spec_yaf_happiness.png')\n",
    "plt.show()"
   ]
  },
  {
   "cell_type": "markdown",
   "id": "5f14b2d1",
   "metadata": {},
   "source": [
    "# Feature extraction\n",
    "\n",
    "- [mfcc extraction info](https://www.researchgate.net/profile/Teddy-Gunawan/publication/353296706_Speech_Emotion_Recognition_Using_Feature_Fusion_of_TEO_and_MFCC_on_Multilingual_Databases/links/613ef96f4e1df2710631ca0a/Speech-Emotion-Recognition-Using-Feature-Fusion-of-TEO-and-MFCC-on-Multilingual-Databases.pdf)\n",
    "- [librosa docs](https://librosa.org/doc/latest/index.html)"
   ]
  },
  {
   "cell_type": "code",
   "execution_count": 35,
   "id": "49dc803b",
   "metadata": {},
   "outputs": [
    {
     "data": {
      "text/html": [
       "<div>\n",
       "<style scoped>\n",
       "    .dataframe tbody tr th:only-of-type {\n",
       "        vertical-align: middle;\n",
       "    }\n",
       "\n",
       "    .dataframe tbody tr th {\n",
       "        vertical-align: top;\n",
       "    }\n",
       "\n",
       "    .dataframe thead th {\n",
       "        text-align: right;\n",
       "    }\n",
       "</style>\n",
       "<table border=\"1\" class=\"dataframe\">\n",
       "  <thead>\n",
       "    <tr style=\"text-align: right;\">\n",
       "      <th></th>\n",
       "      <th>emotion</th>\n",
       "      <th>0</th>\n",
       "      <th>1</th>\n",
       "      <th>2</th>\n",
       "      <th>3</th>\n",
       "      <th>4</th>\n",
       "      <th>5</th>\n",
       "      <th>6</th>\n",
       "      <th>7</th>\n",
       "      <th>8</th>\n",
       "      <th>...</th>\n",
       "      <th>163</th>\n",
       "      <th>164</th>\n",
       "      <th>165</th>\n",
       "      <th>166</th>\n",
       "      <th>167</th>\n",
       "      <th>168</th>\n",
       "      <th>169</th>\n",
       "      <th>170</th>\n",
       "      <th>171</th>\n",
       "      <th>172</th>\n",
       "    </tr>\n",
       "  </thead>\n",
       "  <tbody>\n",
       "    <tr>\n",
       "      <th>0</th>\n",
       "      <td>sad</td>\n",
       "      <td>-44.866684</td>\n",
       "      <td>-42.563484</td>\n",
       "      <td>-42.934090</td>\n",
       "      <td>-42.198429</td>\n",
       "      <td>-38.585060</td>\n",
       "      <td>-37.314648</td>\n",
       "      <td>-39.344276</td>\n",
       "      <td>-39.559017</td>\n",
       "      <td>-38.614834</td>\n",
       "      <td>...</td>\n",
       "      <td>-41.979794</td>\n",
       "      <td>-38.103256</td>\n",
       "      <td>-35.165031</td>\n",
       "      <td>-30.712734</td>\n",
       "      <td>-25.250000</td>\n",
       "      <td>-21.929203</td>\n",
       "      <td>-19.830929</td>\n",
       "      <td>-19.868361</td>\n",
       "      <td>-22.233919</td>\n",
       "      <td>-21.251535</td>\n",
       "    </tr>\n",
       "    <tr>\n",
       "      <th>1</th>\n",
       "      <td>disgust</td>\n",
       "      <td>-41.202820</td>\n",
       "      <td>-38.517208</td>\n",
       "      <td>-37.521523</td>\n",
       "      <td>-35.928848</td>\n",
       "      <td>-36.701500</td>\n",
       "      <td>-37.414253</td>\n",
       "      <td>-36.393902</td>\n",
       "      <td>-33.882385</td>\n",
       "      <td>-32.767769</td>\n",
       "      <td>...</td>\n",
       "      <td>-20.967327</td>\n",
       "      <td>-22.963118</td>\n",
       "      <td>-22.885572</td>\n",
       "      <td>-22.221870</td>\n",
       "      <td>-23.507053</td>\n",
       "      <td>-24.068279</td>\n",
       "      <td>-25.479784</td>\n",
       "      <td>-24.551914</td>\n",
       "      <td>-20.904539</td>\n",
       "      <td>-16.470636</td>\n",
       "    </tr>\n",
       "    <tr>\n",
       "      <th>2</th>\n",
       "      <td>sad</td>\n",
       "      <td>-44.523106</td>\n",
       "      <td>-41.317688</td>\n",
       "      <td>-38.223133</td>\n",
       "      <td>-37.148476</td>\n",
       "      <td>-35.793209</td>\n",
       "      <td>-36.431770</td>\n",
       "      <td>-35.850277</td>\n",
       "      <td>-36.279404</td>\n",
       "      <td>-36.554703</td>\n",
       "      <td>...</td>\n",
       "      <td>-37.707291</td>\n",
       "      <td>-39.314594</td>\n",
       "      <td>-38.339470</td>\n",
       "      <td>-38.279835</td>\n",
       "      <td>-38.296024</td>\n",
       "      <td>-39.444401</td>\n",
       "      <td>-39.700020</td>\n",
       "      <td>-40.861137</td>\n",
       "      <td>-39.896214</td>\n",
       "      <td>-38.872395</td>\n",
       "    </tr>\n",
       "    <tr>\n",
       "      <th>3</th>\n",
       "      <td>angry</td>\n",
       "      <td>-41.129044</td>\n",
       "      <td>-41.145790</td>\n",
       "      <td>-40.203060</td>\n",
       "      <td>-40.004387</td>\n",
       "      <td>-39.338234</td>\n",
       "      <td>-38.796188</td>\n",
       "      <td>-36.842579</td>\n",
       "      <td>-37.031277</td>\n",
       "      <td>-36.232571</td>\n",
       "      <td>...</td>\n",
       "      <td>0.000000</td>\n",
       "      <td>0.000000</td>\n",
       "      <td>0.000000</td>\n",
       "      <td>0.000000</td>\n",
       "      <td>0.000000</td>\n",
       "      <td>0.000000</td>\n",
       "      <td>0.000000</td>\n",
       "      <td>0.000000</td>\n",
       "      <td>0.000000</td>\n",
       "      <td>0.000000</td>\n",
       "    </tr>\n",
       "    <tr>\n",
       "      <th>4</th>\n",
       "      <td>neutral</td>\n",
       "      <td>-43.564331</td>\n",
       "      <td>-43.538578</td>\n",
       "      <td>-43.997803</td>\n",
       "      <td>-43.378044</td>\n",
       "      <td>-42.618168</td>\n",
       "      <td>-40.774433</td>\n",
       "      <td>-39.563217</td>\n",
       "      <td>-39.384590</td>\n",
       "      <td>-41.079617</td>\n",
       "      <td>...</td>\n",
       "      <td>-26.839230</td>\n",
       "      <td>-26.929281</td>\n",
       "      <td>-27.145792</td>\n",
       "      <td>-26.891811</td>\n",
       "      <td>-26.995079</td>\n",
       "      <td>-26.535362</td>\n",
       "      <td>-26.693199</td>\n",
       "      <td>-27.490786</td>\n",
       "      <td>-23.562895</td>\n",
       "      <td>-18.484276</td>\n",
       "    </tr>\n",
       "  </tbody>\n",
       "</table>\n",
       "<p>5 rows × 174 columns</p>\n",
       "</div>"
      ],
      "text/plain": [
       "   emotion          0          1          2          3          4          5  \\\n",
       "0      sad -44.866684 -42.563484 -42.934090 -42.198429 -38.585060 -37.314648   \n",
       "1  disgust -41.202820 -38.517208 -37.521523 -35.928848 -36.701500 -37.414253   \n",
       "2      sad -44.523106 -41.317688 -38.223133 -37.148476 -35.793209 -36.431770   \n",
       "3    angry -41.129044 -41.145790 -40.203060 -40.004387 -39.338234 -38.796188   \n",
       "4  neutral -43.564331 -43.538578 -43.997803 -43.378044 -42.618168 -40.774433   \n",
       "\n",
       "           6          7          8  ...        163        164        165  \\\n",
       "0 -39.344276 -39.559017 -38.614834  ... -41.979794 -38.103256 -35.165031   \n",
       "1 -36.393902 -33.882385 -32.767769  ... -20.967327 -22.963118 -22.885572   \n",
       "2 -35.850277 -36.279404 -36.554703  ... -37.707291 -39.314594 -38.339470   \n",
       "3 -36.842579 -37.031277 -36.232571  ...   0.000000   0.000000   0.000000   \n",
       "4 -39.563217 -39.384590 -41.079617  ... -26.839230 -26.929281 -27.145792   \n",
       "\n",
       "         166        167        168        169        170        171        172  \n",
       "0 -30.712734 -25.250000 -21.929203 -19.830929 -19.868361 -22.233919 -21.251535  \n",
       "1 -22.221870 -23.507053 -24.068279 -25.479784 -24.551914 -20.904539 -16.470636  \n",
       "2 -38.279835 -38.296024 -39.444401 -39.700020 -40.861137 -39.896214 -38.872395  \n",
       "3   0.000000   0.000000   0.000000   0.000000   0.000000   0.000000   0.000000  \n",
       "4 -26.891811 -26.995079 -26.535362 -26.693199 -27.490786 -23.562895 -18.484276  \n",
       "\n",
       "[5 rows x 174 columns]"
      ]
     },
     "execution_count": 35,
     "metadata": {},
     "output_type": "execute_result"
    }
   ],
   "source": [
    "import librosa\n",
    "\n",
    "# log-mel spectrogram into mfcc\n",
    "\n",
    "logMelSpecVal = []\n",
    "\n",
    "def parse_audio_file(pathToFile, _duration, sampleRate):\n",
    "    # load file\n",
    "    wavf, sample_rate = librosa.load(pathToFile, res_type=\"kaiser_fast\", duration=_duration, sr=sampleRate)\n",
    "    \n",
    "    # get mfcc features (coefficients = 13, filters = 32)\n",
    "    mfcc = np.array([])\n",
    "    mfcc = np.mean(librosa.feature.mfcc(y=wavf, sr=sample_rate, n_mfcc = 13), axis=0)\n",
    "    \n",
    "    return mfcc\n",
    "\n",
    "mfccVal = []\n",
    "\n",
    "for fpath in df['path']:\n",
    "    mfcc = parse_audio_file(fpath, 2, 44100)\n",
    "    mfccVal.append(mfcc)\n",
    "    \n",
    "# merge emotions with features\n",
    "df = pd.concat([df, pd.DataFrame(mfccVal)], axis=1)\n",
    "    \n",
    "# drop unnecessary column\n",
    "df.drop(columns='path', inplace=True)\n",
    "\n",
    "# fill na's\n",
    "df = df.fillna(0)\n",
    "df.head()"
   ]
  },
  {
   "cell_type": "markdown",
   "id": "804a3601",
   "metadata": {},
   "source": [
    "# Data split"
   ]
  },
  {
   "cell_type": "code",
   "execution_count": 36,
   "id": "9462af05",
   "metadata": {},
   "outputs": [
    {
     "name": "stdout",
     "output_type": "stream",
     "text": [
      "            0          1          2          3          4          5    \\\n",
      "1957 -36.305271 -36.789738 -36.425220 -34.747608 -35.367222 -36.745964   \n",
      "1105 -40.173527 -41.522141 -42.365028 -39.217091 -35.474632 -35.014355   \n",
      "254  -43.793388 -43.241306 -43.019321 -41.574070 -40.106453 -35.029846   \n",
      "2592 -32.160595 -29.258410 -23.278524 -22.255568 -26.362617 -29.601513   \n",
      "1179 -31.665293 -35.141491 -42.677780 -44.319191 -46.104473 -45.569675   \n",
      "\n",
      "            6          7          8          9    ...        163        164  \\\n",
      "1957 -36.117542 -36.514889 -36.810520 -36.554073  ... -36.101200 -39.634762   \n",
      "1105 -34.125809 -33.744308 -32.054882 -32.173038  ...   0.000000   0.000000   \n",
      "254  -33.976143 -34.539223 -33.108162 -34.407253  ... -46.415386 -39.463905   \n",
      "2592 -29.792355 -33.346142 -32.624657 -30.397259  ... -27.827576 -29.221291   \n",
      "1179 -42.089725 -39.481453 -39.381378 -37.650951  ... -26.674839 -26.402981   \n",
      "\n",
      "            165        166        167        168        169        170  \\\n",
      "1957   0.000000   0.000000   0.000000   0.000000   0.000000   0.000000   \n",
      "1105   0.000000   0.000000   0.000000   0.000000   0.000000   0.000000   \n",
      "254  -27.144047 -20.821381 -19.794949 -20.802715 -24.077806 -21.253031   \n",
      "2592 -27.104012 -26.477657 -26.035898 -23.089712 -23.765697 -29.124001   \n",
      "1179 -26.960482 -27.059328 -27.211760 -27.616182 -26.920549 -26.845930   \n",
      "\n",
      "            171        172  \n",
      "1957   0.000000   0.000000  \n",
      "1105   0.000000   0.000000  \n",
      "254  -18.623571 -17.579756  \n",
      "2592 -29.479658 -29.622646  \n",
      "1179 -24.497194 -21.692898  \n",
      "\n",
      "[5 rows x 173 columns]\n",
      "1957    surprised\n",
      "1105         fear\n",
      "254           sad\n",
      "2592          sad\n",
      "1179      neutral\n",
      "Name: emotion, dtype: object\n"
     ]
    }
   ],
   "source": [
    "from sklearn.model_selection import train_test_split\n",
    "from sklearn.preprocessing import LabelEncoder\n",
    "\n",
    "def data_split(df):\n",
    "    # divide data into labels and features\n",
    "    X = df.iloc[:, :].drop(columns=['emotion'])\n",
    "    y = df['emotion']\n",
    "    \n",
    "    # stratified train, test split\n",
    "    X_train, X_test, y_train, y_test = train_test_split(X, y, test_size=0.2,random_state=0, stratify=y)\n",
    "    \n",
    "    return X_train, X_test, y_train, y_test\n",
    "\n",
    "X_train, X_test, y_train, y_test = data_split(df)\n",
    "\n",
    "print(X_train.head())\n",
    "print(y_train.head())"
   ]
  },
  {
   "cell_type": "markdown",
   "id": "e29f9726",
   "metadata": {},
   "source": [
    "# Data preprocessing"
   ]
  },
  {
   "cell_type": "code",
   "execution_count": 37,
   "id": "3868c597",
   "metadata": {},
   "outputs": [
    {
     "name": "stdout",
     "output_type": "stream",
     "text": [
      "(2240,)\n",
      "(560,)\n",
      "[[0. 0. 0. 1. 0. 0. 0.]\n",
      " [0. 0. 0. 1. 0. 0. 0.]\n",
      " [0. 0. 0. 0. 1. 0. 0.]]\n",
      "['angry' 'disgust' 'fear' 'happy' 'neutral' 'sad' 'surprised']\n",
      "(2240, 173, 1)\n"
     ]
    }
   ],
   "source": [
    "from keras.utils import to_categorical\n",
    "\n",
    "def data_preprocessing(X_train, X_test, y_train, y_test):\n",
    "\n",
    "    # normalization (z-score, values between -1 and 1)\n",
    "    mean = np.mean(X_train, axis=0)\n",
    "    std = np.std(X_train, axis=0)\n",
    "    X_train = (X_train - mean)/std\n",
    "    X_test = (X_test - mean)/std\n",
    "\n",
    "    # turn data into arrays for keras\n",
    "    X_train = np.array(X_train)\n",
    "    y_train = np.array(y_train)\n",
    "    X_test = np.array(X_test)\n",
    "    y_test = np.array(y_test)\n",
    "\n",
    "    print(y_train.shape)\n",
    "    print(y_test.shape)\n",
    "\n",
    "    # label one hot encoding\n",
    "    lb = LabelEncoder()\n",
    "    y_train = to_categorical(lb.fit_transform(y_train))\n",
    "    y_test = to_categorical(lb.fit_transform(y_test))\n",
    "\n",
    "    print(y_test[0:3])\n",
    "\n",
    "    print(lb.classes_)\n",
    "\n",
    "    # data reshaping\n",
    "    X_train = X_train[:,:,np.newaxis]\n",
    "    X_test = X_test[:,:,np.newaxis]\n",
    "\n",
    "    print(X_train.shape)\n",
    "    \n",
    "    return X_train, X_test, y_train, y_test, lb\n",
    "\n",
    "X_train, X_test, y_train, y_test, lb = data_preprocessing(X_train, X_test, y_train, y_test)"
   ]
  },
  {
   "cell_type": "markdown",
   "id": "c41b6a05",
   "metadata": {},
   "source": [
    "# Model architecture\n",
    "\n",
    "- [model architecture info](https://www.researchgate.net/profile/Gregor-Hofer-3/publication/335829168_Analysis_of_Deep_Learning_Architectures_for_Cross-Corpus_Speech_Emotion_Recognition/links/5e2f0a2f4585152d156d9f4f/Analysis-of-Deep-Learning-Architectures-for-Cross-Corpus-Speech-Emotion-Recognition.pdf)"
   ]
  },
  {
   "cell_type": "code",
   "execution_count": 38,
   "id": "a2a95e5d",
   "metadata": {},
   "outputs": [
    {
     "name": "stdout",
     "output_type": "stream",
     "text": [
      "Model: \"sequential_2\"\n",
      "_________________________________________________________________\n",
      "Layer (type)                 Output Shape              Param #   \n",
      "=================================================================\n",
      "conv1d_6 (Conv1D)            (None, 164, 64)           704       \n",
      "_________________________________________________________________\n",
      "conv1d_7 (Conv1D)            (None, 155, 128)          82048     \n",
      "_________________________________________________________________\n",
      "max_pooling1d_4 (MaxPooling1 (None, 19, 128)           0         \n",
      "_________________________________________________________________\n",
      "dropout_6 (Dropout)          (None, 19, 128)           0         \n",
      "_________________________________________________________________\n",
      "conv1d_8 (Conv1D)            (None, 10, 128)           163968    \n",
      "_________________________________________________________________\n",
      "max_pooling1d_5 (MaxPooling1 (None, 1, 128)            0         \n",
      "_________________________________________________________________\n",
      "dropout_7 (Dropout)          (None, 1, 128)            0         \n",
      "_________________________________________________________________\n",
      "flatten_2 (Flatten)          (None, 128)               0         \n",
      "_________________________________________________________________\n",
      "dense_4 (Dense)              (None, 256)               33024     \n",
      "_________________________________________________________________\n",
      "dropout_8 (Dropout)          (None, 256)               0         \n",
      "_________________________________________________________________\n",
      "dense_5 (Dense)              (None, 7)                 1799      \n",
      "=================================================================\n",
      "Total params: 281,543\n",
      "Trainable params: 281,543\n",
      "Non-trainable params: 0\n",
      "_________________________________________________________________\n"
     ]
    }
   ],
   "source": [
    "import tensorflow as tf\n",
    "from tensorflow import keras\n",
    "from tensorflow.keras import layers\n",
    "from tensorflow.keras.models import Sequential, load_model\n",
    "from keras.regularizers import l2\n",
    "from keras.utils import plot_model\n",
    "\n",
    "def get_model():\n",
    "    #BUILD 1D CNN LAYERS\n",
    "    model = tf.keras.Sequential()\n",
    "    model.add(layers.Conv1D(64, kernel_size=(10), activation='relu', input_shape=(X_train.shape[1],1)))\n",
    "    model.add(layers.Conv1D(128, kernel_size=(10),activation='relu',kernel_regularizer=l2(0.01), bias_regularizer=l2(0.01)))\n",
    "    model.add(layers.MaxPooling1D(pool_size=(8)))\n",
    "    model.add(layers.Dropout(0.4))\n",
    "    model.add(layers.Conv1D(128, kernel_size=(10),activation='relu'))\n",
    "    model.add(layers.MaxPooling1D(pool_size=(8)))\n",
    "    model.add(layers.Dropout(0.4))\n",
    "    model.add(layers.Flatten())\n",
    "    model.add(layers.Dense(256, activation='relu'))\n",
    "    model.add(layers.Dropout(0.4))\n",
    "    model.add(layers.Dense(7, activation='sigmoid'))\n",
    "    opt = keras.optimizers.Adam(lr=0.001)\n",
    "    model.compile(loss='categorical_crossentropy', optimizer=opt,metrics=['accuracy'])\n",
    "    \n",
    "    return model\n",
    "\n",
    "model = get_model()\n",
    "model.summary()"
   ]
  },
  {
   "cell_type": "markdown",
   "id": "d966de9e",
   "metadata": {},
   "source": [
    "# Model training and export"
   ]
  },
  {
   "cell_type": "code",
   "execution_count": 39,
   "id": "0effcc0f",
   "metadata": {},
   "outputs": [
    {
     "name": "stderr",
     "output_type": "stream",
     "text": [
      "2022-04-04 12:22:16.634798: W tensorflow/core/common_runtime/bfc_allocator.cc:248] Allocator (GPU_0_bfc) ran out of memory trying to allocate 533.50MiB with freed_by_count=0. The caller indicates that this is not a failure, but may mean that there could be performance gains if more memory were available.\n",
      "2022-04-04 12:22:16.645709: W tensorflow/core/common_runtime/bfc_allocator.cc:248] Allocator (GPU_0_bfc) ran out of memory trying to allocate 169.62MiB with freed_by_count=0. The caller indicates that this is not a failure, but may mean that there could be performance gains if more memory were available.\n"
     ]
    },
    {
     "name": "stdout",
     "output_type": "stream",
     "text": [
      "\n",
      "Epoch 00001: val_accuracy improved from -inf to 0.61964, saving model to ../models/tess/model_1_CNN\n"
     ]
    },
    {
     "name": "stderr",
     "output_type": "stream",
     "text": [
      "2022-04-04 12:22:17.014244: W tensorflow/python/util/util.cc:348] Sets are not currently considered sequences, but this may change in the future, so consider avoiding using them.\n"
     ]
    },
    {
     "name": "stdout",
     "output_type": "stream",
     "text": [
      "INFO:tensorflow:Assets written to: ../models/tess/model_1_CNN/assets\n",
      "\n",
      "Epoch 00002: val_accuracy improved from 0.61964 to 0.81071, saving model to ../models/tess/model_1_CNN\n",
      "INFO:tensorflow:Assets written to: ../models/tess/model_1_CNN/assets\n",
      "\n",
      "Epoch 00003: val_accuracy improved from 0.81071 to 0.86786, saving model to ../models/tess/model_1_CNN\n",
      "INFO:tensorflow:Assets written to: ../models/tess/model_1_CNN/assets\n",
      "\n",
      "Epoch 00004: val_accuracy did not improve from 0.86786\n",
      "\n",
      "Epoch 00005: val_accuracy improved from 0.86786 to 0.90000, saving model to ../models/tess/model_1_CNN\n",
      "INFO:tensorflow:Assets written to: ../models/tess/model_1_CNN/assets\n",
      "\n",
      "Epoch 00006: val_accuracy did not improve from 0.90000\n",
      "\n",
      "Epoch 00007: val_accuracy improved from 0.90000 to 0.90357, saving model to ../models/tess/model_1_CNN\n",
      "INFO:tensorflow:Assets written to: ../models/tess/model_1_CNN/assets\n",
      "\n",
      "Epoch 00008: val_accuracy did not improve from 0.90357\n",
      "\n",
      "Epoch 00009: val_accuracy improved from 0.90357 to 0.90536, saving model to ../models/tess/model_1_CNN\n",
      "INFO:tensorflow:Assets written to: ../models/tess/model_1_CNN/assets\n",
      "\n",
      "Epoch 00010: val_accuracy improved from 0.90536 to 0.91250, saving model to ../models/tess/model_1_CNN\n",
      "INFO:tensorflow:Assets written to: ../models/tess/model_1_CNN/assets\n",
      "\n",
      "Epoch 00011: val_accuracy improved from 0.91250 to 0.91607, saving model to ../models/tess/model_1_CNN\n",
      "INFO:tensorflow:Assets written to: ../models/tess/model_1_CNN/assets\n",
      "\n",
      "Epoch 00012: val_accuracy improved from 0.91607 to 0.92500, saving model to ../models/tess/model_1_CNN\n",
      "INFO:tensorflow:Assets written to: ../models/tess/model_1_CNN/assets\n",
      "\n",
      "Epoch 00013: val_accuracy improved from 0.92500 to 0.92857, saving model to ../models/tess/model_1_CNN\n",
      "INFO:tensorflow:Assets written to: ../models/tess/model_1_CNN/assets\n",
      "\n",
      "Epoch 00014: val_accuracy improved from 0.92857 to 0.93571, saving model to ../models/tess/model_1_CNN\n",
      "INFO:tensorflow:Assets written to: ../models/tess/model_1_CNN/assets\n",
      "\n",
      "Epoch 00015: val_accuracy did not improve from 0.93571\n",
      "\n",
      "Epoch 00016: val_accuracy did not improve from 0.93571\n",
      "\n",
      "Epoch 00017: val_accuracy improved from 0.93571 to 0.93750, saving model to ../models/tess/model_1_CNN\n",
      "INFO:tensorflow:Assets written to: ../models/tess/model_1_CNN/assets\n",
      "\n",
      "Epoch 00018: val_accuracy improved from 0.93750 to 0.95000, saving model to ../models/tess/model_1_CNN\n",
      "INFO:tensorflow:Assets written to: ../models/tess/model_1_CNN/assets\n",
      "\n",
      "Epoch 00019: val_accuracy did not improve from 0.95000\n",
      "\n",
      "Epoch 00020: val_accuracy did not improve from 0.95000\n",
      "\n",
      "Epoch 00021: val_accuracy did not improve from 0.95000\n",
      "\n",
      "Epoch 00022: val_accuracy did not improve from 0.95000\n",
      "\n",
      "Epoch 00023: val_accuracy did not improve from 0.95000\n",
      "\n",
      "Epoch 00024: val_accuracy did not improve from 0.95000\n",
      "\n",
      "Epoch 00025: val_accuracy did not improve from 0.95000\n",
      "\n",
      "Epoch 00026: val_accuracy did not improve from 0.95000\n",
      "\n",
      "Epoch 00027: val_accuracy did not improve from 0.95000\n",
      "\n",
      "Epoch 00028: val_accuracy improved from 0.95000 to 0.95179, saving model to ../models/tess/model_1_CNN\n",
      "INFO:tensorflow:Assets written to: ../models/tess/model_1_CNN/assets\n",
      "\n",
      "Epoch 00029: val_accuracy did not improve from 0.95179\n",
      "\n",
      "Epoch 00030: val_accuracy did not improve from 0.95179\n",
      "\n",
      "Epoch 00031: val_accuracy improved from 0.95179 to 0.95357, saving model to ../models/tess/model_1_CNN\n",
      "INFO:tensorflow:Assets written to: ../models/tess/model_1_CNN/assets\n",
      "\n",
      "Epoch 00032: val_accuracy improved from 0.95357 to 0.95536, saving model to ../models/tess/model_1_CNN\n",
      "INFO:tensorflow:Assets written to: ../models/tess/model_1_CNN/assets\n",
      "\n",
      "Epoch 00033: val_accuracy did not improve from 0.95536\n",
      "\n",
      "Epoch 00034: val_accuracy did not improve from 0.95536\n",
      "\n",
      "Epoch 00035: val_accuracy did not improve from 0.95536\n",
      "\n",
      "Epoch 00036: val_accuracy did not improve from 0.95536\n",
      "\n",
      "Epoch 00037: val_accuracy did not improve from 0.95536\n",
      "\n",
      "Epoch 00038: val_accuracy did not improve from 0.95536\n",
      "\n",
      "Epoch 00039: val_accuracy did not improve from 0.95536\n",
      "\n",
      "Epoch 00040: val_accuracy did not improve from 0.95536\n"
     ]
    },
    {
     "data": {
      "image/png": "[encoded data removed]",
      "text/plain": [
       "<Figure size 432x288 with 1 Axes>"
      ]
     },
     "metadata": {},
     "output_type": "display_data"
    },
    {
     "data": {
      "image/png": "[encoded data removed]",
      "text/plain": [
       "<Figure size 432x288 with 1 Axes>"
      ]
     },
     "metadata": {},
     "output_type": "display_data"
    }
   ],
   "source": [
    "from keras.callbacks import ModelCheckpoint\n",
    "\n",
    "# use checkpoints to save best model\n",
    "checkpoint = ModelCheckpoint(modelsPath + 'model_1_CNN', monitor='val_accuracy', verbose=1, save_best_only=True, mode='max')\n",
    "\n",
    "# fit model\n",
    "model_history = model.fit(X_train, y_train, batch_size=32, epochs=40, validation_data=(X_test, y_test), callbacks=[checkpoint], verbose=0)\n",
    "\n",
    "# plot model accuracy and loss over epochs\n",
    "plt.plot(model_history.history['accuracy'])\n",
    "plt.plot(model_history.history['val_accuracy'])\n",
    "plt.title('Model Accuracy')\n",
    "plt.ylabel('Accuracy')\n",
    "plt.xlabel('Epoch')\n",
    "plt.legend(['Train', 'Test'], loc='upper left')\n",
    "plt.savefig(imgsPath + 'Initial_Model_Accuracy.png')\n",
    "plt.show()\n",
    "\n",
    "# summarize history for loss\n",
    "plt.plot(model_history.history['loss'])\n",
    "plt.plot(model_history.history['val_loss'])\n",
    "plt.title('Model Loss')\n",
    "plt.ylabel('Loss')\n",
    "plt.xlabel('Epoch')\n",
    "plt.legend(['train', 'test'], loc='upper left')\n",
    "plt.savefig(imgsPath + 'Initial_Model_loss.png')\n",
    "plt.show()"
   ]
  },
  {
   "cell_type": "markdown",
   "id": "b1f4535b",
   "metadata": {},
   "source": [
    "# Results"
   ]
  },
  {
   "cell_type": "markdown",
   "id": "ac19ffd6",
   "metadata": {},
   "source": [
    "## accuracy and loss"
   ]
  },
  {
   "cell_type": "code",
   "execution_count": 40,
   "id": "08166310",
   "metadata": {},
   "outputs": [
    {
     "name": "stdout",
     "output_type": "stream",
     "text": [
      "18/18 [==============================] - 0s 2ms/step - loss: 0.2031 - accuracy: 0.9482\n",
      "Loss of the model is -  0.2030697613954544\n",
      "18/18 [==============================] - 0s 2ms/step - loss: 0.2031 - accuracy: 0.9482\n",
      "Accuracy of the model is -  94.82142925262451 %\n"
     ]
    }
   ],
   "source": [
    "# loss and accuracy percentage on test set\n",
    "print(\"Loss of the model is - \" , model.evaluate(X_test,y_test)[0])\n",
    "print(\"Accuracy of the model is - \" , model.evaluate(X_test,y_test)[1]*100 , \"%\")"
   ]
  },
  {
   "cell_type": "code",
   "execution_count": 41,
   "id": "c3ae0b0a",
   "metadata": {},
   "outputs": [
    {
     "data": {
      "text/html": [
       "<div>\n",
       "<style scoped>\n",
       "    .dataframe tbody tr th:only-of-type {\n",
       "        vertical-align: middle;\n",
       "    }\n",
       "\n",
       "    .dataframe tbody tr th {\n",
       "        vertical-align: top;\n",
       "    }\n",
       "\n",
       "    .dataframe thead th {\n",
       "        text-align: right;\n",
       "    }\n",
       "</style>\n",
       "<table border=\"1\" class=\"dataframe\">\n",
       "  <thead>\n",
       "    <tr style=\"text-align: right;\">\n",
       "      <th></th>\n",
       "      <th>Actual Values</th>\n",
       "      <th>Predicted Values</th>\n",
       "    </tr>\n",
       "  </thead>\n",
       "  <tbody>\n",
       "    <tr>\n",
       "      <th>1</th>\n",
       "      <td>happy</td>\n",
       "      <td>happy</td>\n",
       "    </tr>\n",
       "    <tr>\n",
       "      <th>2</th>\n",
       "      <td>neutral</td>\n",
       "      <td>neutral</td>\n",
       "    </tr>\n",
       "    <tr>\n",
       "      <th>3</th>\n",
       "      <td>surprised</td>\n",
       "      <td>surprised</td>\n",
       "    </tr>\n",
       "    <tr>\n",
       "      <th>4</th>\n",
       "      <td>happy</td>\n",
       "      <td>happy</td>\n",
       "    </tr>\n",
       "    <tr>\n",
       "      <th>5</th>\n",
       "      <td>sad</td>\n",
       "      <td>sad</td>\n",
       "    </tr>\n",
       "    <tr>\n",
       "      <th>6</th>\n",
       "      <td>sad</td>\n",
       "      <td>neutral</td>\n",
       "    </tr>\n",
       "    <tr>\n",
       "      <th>7</th>\n",
       "      <td>fear</td>\n",
       "      <td>fear</td>\n",
       "    </tr>\n",
       "    <tr>\n",
       "      <th>8</th>\n",
       "      <td>surprised</td>\n",
       "      <td>surprised</td>\n",
       "    </tr>\n",
       "    <tr>\n",
       "      <th>9</th>\n",
       "      <td>surprised</td>\n",
       "      <td>surprised</td>\n",
       "    </tr>\n",
       "  </tbody>\n",
       "</table>\n",
       "</div>"
      ],
      "text/plain": [
       "  Actual Values Predicted Values\n",
       "1         happy            happy\n",
       "2       neutral          neutral\n",
       "3     surprised        surprised\n",
       "4         happy            happy\n",
       "5           sad              sad\n",
       "6           sad          neutral\n",
       "7          fear             fear\n",
       "8     surprised        surprised\n",
       "9     surprised        surprised"
      ]
     },
     "execution_count": 41,
     "metadata": {},
     "output_type": "execute_result"
    }
   ],
   "source": [
    "# predictions\n",
    "predictions = model.predict(X_test)\n",
    "predictions = predictions.argmax(axis=1)\n",
    "predictions = predictions.astype(int).flatten()\n",
    "predictions = (lb.inverse_transform((predictions)))\n",
    "predictions = pd.DataFrame({'Predicted Values': predictions})\n",
    "\n",
    "# actual labels\n",
    "actual = y_test.argmax(axis=1)\n",
    "actual = actual.astype(int).flatten()\n",
    "actual = (lb.inverse_transform((actual)))\n",
    "actual = pd.DataFrame({'Actual Values': actual})\n",
    "\n",
    "# combine both\n",
    "finaldf = actual.join(predictions)\n",
    "finaldf[1:10]"
   ]
  },
  {
   "cell_type": "markdown",
   "id": "705927a8",
   "metadata": {},
   "source": [
    "## confusion matrix"
   ]
  },
  {
   "cell_type": "code",
   "execution_count": 42,
   "id": "baba4f6f",
   "metadata": {},
   "outputs": [
    {
     "data": {
      "image/png": "[encoded data removed]",
      "text/plain": [
       "<Figure size 864x720 with 2 Axes>"
      ]
     },
     "metadata": {},
     "output_type": "display_data"
    }
   ],
   "source": [
    "from sklearn.metrics import confusion_matrix, classification_report\n",
    "\n",
    "# confusion matrix, actual vs predicted\n",
    "cm = confusion_matrix(actual, predictions)\n",
    "plt.figure(figsize = (12, 10))\n",
    "cm = pd.DataFrame(cm , index = [i for i in lb.classes_] , columns = [i for i in lb.classes_])\n",
    "ax = sns.heatmap(cm, linecolor='white', cmap='Blues', linewidth=1, annot=True, fmt='')\n",
    "bottom, top = ax.get_ylim()\n",
    "ax.set_ylim(bottom + 0.5, top - 0.5)\n",
    "plt.title('Confusion Matrix', size=20)\n",
    "plt.xlabel('Predicted Labels', size=14)\n",
    "plt.ylabel('Actual Labels', size=14)\n",
    "plt.savefig(imgsPath + 'Initial_Model_Confusion_Matrix.png')\n",
    "plt.show()"
   ]
  },
  {
   "cell_type": "code",
   "execution_count": 44,
   "id": "610dd2ff",
   "metadata": {},
   "outputs": [
    {
     "name": "stdout",
     "output_type": "stream",
     "text": [
      "              precision    recall  f1-score   support\n",
      "\n",
      "       angry       0.92      0.91      0.92        80\n",
      "     disgust       0.96      0.96      0.96        80\n",
      "        fear       0.97      0.94      0.96        80\n",
      "       happy       0.95      0.95      0.95        80\n",
      "     neutral       0.96      0.99      0.98        80\n",
      "         sad       0.94      0.95      0.94        80\n",
      "   surprised       0.93      0.94      0.93        80\n",
      "\n",
      "    accuracy                           0.95       560\n",
      "   macro avg       0.95      0.95      0.95       560\n",
      "weighted avg       0.95      0.95      0.95       560\n",
      "\n"
     ]
    }
   ],
   "source": [
    "print(classification_report(actual, predictions, target_names = ['angry', 'disgust', 'fear', 'happy', 'neutral', 'sad', 'surprised']))"
   ]
  },
  {
   "cell_type": "code",
   "execution_count": null,
   "id": "fb0176cd",
   "metadata": {},
   "outputs": [],
   "source": []
  }
 ],
 "metadata": {
  "kernelspec": {
   "display_name": "Python 3 (ipykernel)",
   "language": "python",
   "name": "python3"
  },
  "language_info": {
   "codemirror_mode": {
    "name": "ipython",
    "version": 3
   },
   "file_extension": ".py",
   "mimetype": "text/x-python",
   "name": "python",
   "nbconvert_exporter": "python",
   "pygments_lexer": "ipython3",
   "version": "3.9.11"
  }
 },
 "nbformat": 4,
 "nbformat_minor": 5
}
