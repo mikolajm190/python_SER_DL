{
 "cells": [
  {
   "cell_type": "markdown",
   "id": "1de5ee4e",
   "metadata": {},
   "source": [
    "# Data preprocessing"
   ]
  },
  {
   "cell_type": "markdown",
   "id": "76426211",
   "metadata": {},
   "source": [
    "## emotion label + path to file"
   ]
  },
  {
   "cell_type": "code",
   "execution_count": 4,
   "id": "60e52808",
   "metadata": {},
   "outputs": [
    {
     "data": {
      "text/html": [
       "<div>\n",
       "<style scoped>\n",
       "    .dataframe tbody tr th:only-of-type {\n",
       "        vertical-align: middle;\n",
       "    }\n",
       "\n",
       "    .dataframe tbody tr th {\n",
       "        vertical-align: top;\n",
       "    }\n",
       "\n",
       "    .dataframe thead th {\n",
       "        text-align: right;\n",
       "    }\n",
       "</style>\n",
       "<table border=\"1\" class=\"dataframe\">\n",
       "  <thead>\n",
       "    <tr style=\"text-align: right;\">\n",
       "      <th></th>\n",
       "      <th>path</th>\n",
       "      <th>emotion</th>\n",
       "    </tr>\n",
       "  </thead>\n",
       "  <tbody>\n",
       "    <tr>\n",
       "      <th>0</th>\n",
       "      <td>../data/tess/oaf/OAF_nice_ps.wav</td>\n",
       "      <td>surprised</td>\n",
       "    </tr>\n",
       "    <tr>\n",
       "      <th>1</th>\n",
       "      <td>../data/tess/oaf/OAF_numb_disgust.wav</td>\n",
       "      <td>disgust</td>\n",
       "    </tr>\n",
       "    <tr>\n",
       "      <th>2</th>\n",
       "      <td>../data/tess/oaf/OAF_gin_ps.wav</td>\n",
       "      <td>surprised</td>\n",
       "    </tr>\n",
       "    <tr>\n",
       "      <th>3</th>\n",
       "      <td>../data/tess/oaf/OAF_jail_neutral.wav</td>\n",
       "      <td>neutral</td>\n",
       "    </tr>\n",
       "    <tr>\n",
       "      <th>4</th>\n",
       "      <td>../data/tess/oaf/OAF_sell_sad.wav</td>\n",
       "      <td>sad</td>\n",
       "    </tr>\n",
       "    <tr>\n",
       "      <th>...</th>\n",
       "      <td>...</td>\n",
       "      <td>...</td>\n",
       "    </tr>\n",
       "    <tr>\n",
       "      <th>2795</th>\n",
       "      <td>../data/tess/yaf/YAF_void_fear.wav</td>\n",
       "      <td>fear</td>\n",
       "    </tr>\n",
       "    <tr>\n",
       "      <th>2796</th>\n",
       "      <td>../data/tess/yaf/YAF_date_sad.wav</td>\n",
       "      <td>sad</td>\n",
       "    </tr>\n",
       "    <tr>\n",
       "      <th>2797</th>\n",
       "      <td>../data/tess/yaf/YAF_raid_happy.wav</td>\n",
       "      <td>happy</td>\n",
       "    </tr>\n",
       "    <tr>\n",
       "      <th>2798</th>\n",
       "      <td>../data/tess/yaf/YAF_cause_ps.wav</td>\n",
       "      <td>surprised</td>\n",
       "    </tr>\n",
       "    <tr>\n",
       "      <th>2799</th>\n",
       "      <td>../data/tess/yaf/YAF_cab_fear.wav</td>\n",
       "      <td>fear</td>\n",
       "    </tr>\n",
       "  </tbody>\n",
       "</table>\n",
       "<p>2800 rows × 2 columns</p>\n",
       "</div>"
      ],
      "text/plain": [
       "                                       path    emotion\n",
       "0          ../data/tess/oaf/OAF_nice_ps.wav  surprised\n",
       "1     ../data/tess/oaf/OAF_numb_disgust.wav    disgust\n",
       "2           ../data/tess/oaf/OAF_gin_ps.wav  surprised\n",
       "3     ../data/tess/oaf/OAF_jail_neutral.wav    neutral\n",
       "4         ../data/tess/oaf/OAF_sell_sad.wav        sad\n",
       "...                                     ...        ...\n",
       "2795     ../data/tess/yaf/YAF_void_fear.wav       fear\n",
       "2796      ../data/tess/yaf/YAF_date_sad.wav        sad\n",
       "2797    ../data/tess/yaf/YAF_raid_happy.wav      happy\n",
       "2798      ../data/tess/yaf/YAF_cause_ps.wav  surprised\n",
       "2799      ../data/tess/yaf/YAF_cab_fear.wav       fear\n",
       "\n",
       "[2800 rows x 2 columns]"
      ]
     },
     "execution_count": 4,
     "metadata": {},
     "output_type": "execute_result"
    }
   ],
   "source": [
    "#!/home/judehey/miniconda3/envs/myenv/bin/python\n",
    "\n",
    "import pandas as pd\n",
    "import numpy as np\n",
    "import os\n",
    "\n",
    "pathToData=\"../data/tess/\"\n",
    "imgsPath=\"../imgs/tess/\"\n",
    "modelsPath=\"../models/tess/\"\n",
    "\n",
    "def load_data(path):\n",
    "    emotion, file_path = [], []\n",
    "    \n",
    "    # iterate over utterances in speech folder\n",
    "    for folder in os.listdir(path):\n",
    "        for file in os.listdir(path + folder):\n",
    "            emotion.append(file.split(\"_\")[2].split(\".\")[0])\n",
    "            file_path.append(path + folder + \"/\" + file)\n",
    "                \n",
    "    # prepare dataframe\n",
    "    audio_df = pd.DataFrame(emotion)\n",
    "    audio_df = audio_df.replace({\"ps\": \"surprised\"})\n",
    "    \n",
    "    # concatenate file paths to emotion data frame\n",
    "    audio_df = pd.concat([pd.DataFrame(file_path), audio_df], axis=1)\n",
    "    audio_df.columns = ['path', 'emotion']\n",
    "    \n",
    "    return audio_df\n",
    "\n",
    "df = load_data(pathToData)\n",
    "df"
   ]
  },
  {
   "cell_type": "markdown",
   "id": "b79a1d9f",
   "metadata": {},
   "source": [
    "# Feature extraction"
   ]
  },
  {
   "cell_type": "code",
   "execution_count": null,
   "id": "b9a63adb",
   "metadata": {},
   "outputs": [],
   "source": []
  }
 ],
 "metadata": {
  "kernelspec": {
   "display_name": "Python 3 (ipykernel)",
   "language": "python",
   "name": "python3"
  },
  "language_info": {
   "codemirror_mode": {
    "name": "ipython",
    "version": 3
   },
   "file_extension": ".py",
   "mimetype": "text/x-python",
   "name": "python",
   "nbconvert_exporter": "python",
   "pygments_lexer": "ipython3",
   "version": "3.9.7"
  }
 },
 "nbformat": 4,
 "nbformat_minor": 5
}
