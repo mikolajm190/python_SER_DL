{
 "cells": [
  {
   "cell_type": "markdown",
   "id": "1de5ee4e",
   "metadata": {},
   "source": [
    "# Data preprocessing"
   ]
  },
  {
   "cell_type": "markdown",
   "id": "76426211",
   "metadata": {},
   "source": [
    "## emotion label + path to file"
   ]
  },
  {
   "cell_type": "code",
   "execution_count": 1,
   "id": "60e52808",
   "metadata": {},
   "outputs": [
    {
     "data": {
      "text/html": [
       "<div>\n",
       "<style scoped>\n",
       "    .dataframe tbody tr th:only-of-type {\n",
       "        vertical-align: middle;\n",
       "    }\n",
       "\n",
       "    .dataframe tbody tr th {\n",
       "        vertical-align: top;\n",
       "    }\n",
       "\n",
       "    .dataframe thead th {\n",
       "        text-align: right;\n",
       "    }\n",
       "</style>\n",
       "<table border=\"1\" class=\"dataframe\">\n",
       "  <thead>\n",
       "    <tr style=\"text-align: right;\">\n",
       "      <th></th>\n",
       "      <th>path</th>\n",
       "      <th>emotion</th>\n",
       "    </tr>\n",
       "  </thead>\n",
       "  <tbody>\n",
       "    <tr>\n",
       "      <th>0</th>\n",
       "      <td>../data/tess/oaf/OAF_pike_sad.wav</td>\n",
       "      <td>sad</td>\n",
       "    </tr>\n",
       "    <tr>\n",
       "      <th>1</th>\n",
       "      <td>../data/tess/oaf/OAF_bought_disgust.wav</td>\n",
       "      <td>disgust</td>\n",
       "    </tr>\n",
       "    <tr>\n",
       "      <th>2</th>\n",
       "      <td>../data/tess/oaf/OAF_gin_sad.wav</td>\n",
       "      <td>sad</td>\n",
       "    </tr>\n",
       "    <tr>\n",
       "      <th>3</th>\n",
       "      <td>../data/tess/oaf/OAF_learn_angry.wav</td>\n",
       "      <td>angry</td>\n",
       "    </tr>\n",
       "    <tr>\n",
       "      <th>4</th>\n",
       "      <td>../data/tess/oaf/OAF_moon_neutral.wav</td>\n",
       "      <td>neutral</td>\n",
       "    </tr>\n",
       "    <tr>\n",
       "      <th>...</th>\n",
       "      <td>...</td>\n",
       "      <td>...</td>\n",
       "    </tr>\n",
       "    <tr>\n",
       "      <th>2795</th>\n",
       "      <td>../data/tess/yaf/YAF_cause_fear.wav</td>\n",
       "      <td>fear</td>\n",
       "    </tr>\n",
       "    <tr>\n",
       "      <th>2796</th>\n",
       "      <td>../data/tess/yaf/YAF_hate_ps.wav</td>\n",
       "      <td>surprised</td>\n",
       "    </tr>\n",
       "    <tr>\n",
       "      <th>2797</th>\n",
       "      <td>../data/tess/yaf/YAF_gun_happy.wav</td>\n",
       "      <td>happy</td>\n",
       "    </tr>\n",
       "    <tr>\n",
       "      <th>2798</th>\n",
       "      <td>../data/tess/yaf/YAF_chair_disgust.wav</td>\n",
       "      <td>disgust</td>\n",
       "    </tr>\n",
       "    <tr>\n",
       "      <th>2799</th>\n",
       "      <td>../data/tess/yaf/YAF_wife_angry.wav</td>\n",
       "      <td>angry</td>\n",
       "    </tr>\n",
       "  </tbody>\n",
       "</table>\n",
       "<p>2800 rows × 2 columns</p>\n",
       "</div>"
      ],
      "text/plain": [
       "                                         path    emotion\n",
       "0           ../data/tess/oaf/OAF_pike_sad.wav        sad\n",
       "1     ../data/tess/oaf/OAF_bought_disgust.wav    disgust\n",
       "2            ../data/tess/oaf/OAF_gin_sad.wav        sad\n",
       "3        ../data/tess/oaf/OAF_learn_angry.wav      angry\n",
       "4       ../data/tess/oaf/OAF_moon_neutral.wav    neutral\n",
       "...                                       ...        ...\n",
       "2795      ../data/tess/yaf/YAF_cause_fear.wav       fear\n",
       "2796         ../data/tess/yaf/YAF_hate_ps.wav  surprised\n",
       "2797       ../data/tess/yaf/YAF_gun_happy.wav      happy\n",
       "2798   ../data/tess/yaf/YAF_chair_disgust.wav    disgust\n",
       "2799      ../data/tess/yaf/YAF_wife_angry.wav      angry\n",
       "\n",
       "[2800 rows x 2 columns]"
      ]
     },
     "execution_count": 1,
     "metadata": {},
     "output_type": "execute_result"
    }
   ],
   "source": [
    "#!/home/judehey/miniconda3/envs/myenv/bin/python\n",
    "\n",
    "import pandas as pd\n",
    "import numpy as np\n",
    "import os\n",
    "\n",
    "pathToData=\"../data/tess/\"\n",
    "imgsPath=\"../imgs/tess/\"\n",
    "modelsPath=\"../models/tess/\"\n",
    "\n",
    "def load_data(path):\n",
    "    emotion, file_path = [], []\n",
    "    \n",
    "    # iterate over utterances in speech folder\n",
    "    for folder in os.listdir(path):\n",
    "        for file in os.listdir(path + folder):\n",
    "            emotion.append(file.split(\"_\")[2].split(\".\")[0])\n",
    "            file_path.append(path + folder + \"/\" + file)\n",
    "                \n",
    "    # prepare dataframe\n",
    "    audio_df = pd.DataFrame(emotion)\n",
    "    audio_df = audio_df.replace({\"ps\": \"surprised\"})\n",
    "    \n",
    "    # concatenate file paths to emotion data frame\n",
    "    audio_df = pd.concat([pd.DataFrame(file_path), audio_df], axis=1)\n",
    "    audio_df.columns = ['path', 'emotion']\n",
    "    \n",
    "    return audio_df\n",
    "\n",
    "df = load_data(pathToData)\n",
    "df"
   ]
  },
  {
   "cell_type": "markdown",
   "id": "897fd4ae",
   "metadata": {},
   "source": [
    "# Plots"
   ]
  },
  {
   "cell_type": "markdown",
   "id": "9af98ddc",
   "metadata": {},
   "source": [
    "## class distribution"
   ]
  },
  {
   "cell_type": "code",
   "execution_count": 4,
   "id": "b635598c",
   "metadata": {},
   "outputs": [
    {
     "name": "stdout",
     "output_type": "stream",
     "text": [
      "['sad' 'disgust' 'angry' 'neutral' 'fear' 'happy' 'surprised']\n"
     ]
    },
    {
     "data": {
      "image/png": "[encoded data removed]",
      "text/plain": [
       "<Figure size 432x288 with 1 Axes>"
      ]
     },
     "metadata": {},
     "output_type": "display_data"
    }
   ],
   "source": [
    "import seaborn as sns\n",
    "import matplotlib.pyplot as plt\n",
    "\n",
    "# class imbalance plot\n",
    "print(df['emotion'].unique())\n",
    "sns.set_theme(style='darkgrid')\n",
    "sns.countplot(x = 'emotion', data = df)\n",
    "plt.title('Class distribution')\n",
    "plt.savefig(imgsPath + 'class_distribution.png')\n",
    "plt.show()"
   ]
  },
  {
   "cell_type": "markdown",
   "id": "a439d5f2",
   "metadata": {},
   "source": [
    "## waveform"
   ]
  },
  {
   "cell_type": "code",
   "execution_count": 5,
   "id": "21667c07",
   "metadata": {},
   "outputs": [
    {
     "data": {
      "image/png": "[encoded data removed]",
      "text/plain": [
       "<Figure size 576x288 with 1 Axes>"
      ]
     },
     "metadata": {},
     "output_type": "display_data"
    }
   ],
   "source": [
    "import librosa.display\n",
    "\n",
    "# waveplot\n",
    "wavf, sr = librosa.load('../data/tess/yaf/YAF_gun_happy.wav')\n",
    "\n",
    "plt.figure(figsize = (8, 4))\n",
    "librosa.display.waveshow(wavf, sr = sr)\n",
    "plt.title('Waveplot - young woman actor happiness')\n",
    "plt.savefig(imgsPath + 'waveplot_yaf_happiness.png')\n",
    "plt.show()"
   ]
  },
  {
   "cell_type": "markdown",
   "id": "c77f8419",
   "metadata": {},
   "source": [
    "## log-mel spectrogram"
   ]
  },
  {
   "cell_type": "code",
   "execution_count": 6,
   "id": "8f2c2614",
   "metadata": {},
   "outputs": [
    {
     "data": {
      "image/png": "[encoded data removed]",
      "text/plain": [
       "<Figure size 432x288 with 1 Axes>"
      ]
     },
     "metadata": {},
     "output_type": "display_data"
    }
   ],
   "source": [
    "# log-mel spectrogram\n",
    "spectrogram = librosa.feature.melspectrogram(y=wavf, sr=sr, n_mels=128, fmax=8000)\n",
    "spectrogram = librosa.power_to_db(spectrogram)\n",
    "\n",
    "librosa.display.specshow(spectrogram, y_axis='mel', fmax=8000, x_axis='time')\n",
    "plt.title('Mel spectrogram - young woman actor happiness')\n",
    "plt.savefig(imgsPath + 'mel_spec_yaf_happiness.png')\n",
    "plt.show()"
   ]
  },
  {
   "cell_type": "markdown",
   "id": "59212480",
   "metadata": {},
   "source": [
    "# Feature extraction\n",
    "\n",
    "- [mfcc extraction info](https://www.researchgate.net/profile/Teddy-Gunawan/publication/353296706_Speech_Emotion_Recognition_Using_Feature_Fusion_of_TEO_and_MFCC_on_Multilingual_Databases/links/613ef96f4e1df2710631ca0a/Speech-Emotion-Recognition-Using-Feature-Fusion-of-TEO-and-MFCC-on-Multilingual-Databases.pdf)\n",
    "- [librosa docs](https://librosa.org/doc/latest/index.html)"
   ]
  },
  {
   "cell_type": "code",
   "execution_count": 2,
   "id": "1462572d",
   "metadata": {},
   "outputs": [
    {
     "data": {
      "text/html": [
       "<div>\n",
       "<style scoped>\n",
       "    .dataframe tbody tr th:only-of-type {\n",
       "        vertical-align: middle;\n",
       "    }\n",
       "\n",
       "    .dataframe tbody tr th {\n",
       "        vertical-align: top;\n",
       "    }\n",
       "\n",
       "    .dataframe thead th {\n",
       "        text-align: right;\n",
       "    }\n",
       "</style>\n",
       "<table border=\"1\" class=\"dataframe\">\n",
       "  <thead>\n",
       "    <tr style=\"text-align: right;\">\n",
       "      <th></th>\n",
       "      <th>emotion</th>\n",
       "      <th>0</th>\n",
       "      <th>1</th>\n",
       "      <th>2</th>\n",
       "      <th>3</th>\n",
       "      <th>4</th>\n",
       "      <th>5</th>\n",
       "      <th>6</th>\n",
       "      <th>7</th>\n",
       "      <th>8</th>\n",
       "      <th>...</th>\n",
       "      <th>205</th>\n",
       "      <th>206</th>\n",
       "      <th>207</th>\n",
       "      <th>208</th>\n",
       "      <th>209</th>\n",
       "      <th>210</th>\n",
       "      <th>211</th>\n",
       "      <th>212</th>\n",
       "      <th>213</th>\n",
       "      <th>214</th>\n",
       "    </tr>\n",
       "  </thead>\n",
       "  <tbody>\n",
       "    <tr>\n",
       "      <th>0</th>\n",
       "      <td>sad</td>\n",
       "      <td>-20.518925</td>\n",
       "      <td>-23.834490</td>\n",
       "      <td>-34.314144</td>\n",
       "      <td>-34.405781</td>\n",
       "      <td>-33.269936</td>\n",
       "      <td>-33.108788</td>\n",
       "      <td>-34.905071</td>\n",
       "      <td>-33.865349</td>\n",
       "      <td>-33.508564</td>\n",
       "      <td>...</td>\n",
       "      <td>0.0</td>\n",
       "      <td>0.0</td>\n",
       "      <td>0.0</td>\n",
       "      <td>0.0</td>\n",
       "      <td>0.0</td>\n",
       "      <td>0.0</td>\n",
       "      <td>0.0</td>\n",
       "      <td>0.0</td>\n",
       "      <td>0.0</td>\n",
       "      <td>0.0</td>\n",
       "    </tr>\n",
       "    <tr>\n",
       "      <th>1</th>\n",
       "      <td>disgust</td>\n",
       "      <td>-16.197065</td>\n",
       "      <td>-19.808979</td>\n",
       "      <td>-30.304638</td>\n",
       "      <td>-29.123310</td>\n",
       "      <td>-28.933428</td>\n",
       "      <td>-30.415739</td>\n",
       "      <td>-30.393351</td>\n",
       "      <td>-31.475573</td>\n",
       "      <td>-30.270222</td>\n",
       "      <td>...</td>\n",
       "      <td>0.0</td>\n",
       "      <td>0.0</td>\n",
       "      <td>0.0</td>\n",
       "      <td>0.0</td>\n",
       "      <td>0.0</td>\n",
       "      <td>0.0</td>\n",
       "      <td>0.0</td>\n",
       "      <td>0.0</td>\n",
       "      <td>0.0</td>\n",
       "      <td>0.0</td>\n",
       "    </tr>\n",
       "    <tr>\n",
       "      <th>2</th>\n",
       "      <td>sad</td>\n",
       "      <td>-15.352673</td>\n",
       "      <td>-18.627728</td>\n",
       "      <td>-29.638374</td>\n",
       "      <td>-28.969637</td>\n",
       "      <td>-28.197258</td>\n",
       "      <td>-27.549711</td>\n",
       "      <td>-27.400560</td>\n",
       "      <td>-27.088848</td>\n",
       "      <td>-29.214334</td>\n",
       "      <td>...</td>\n",
       "      <td>0.0</td>\n",
       "      <td>0.0</td>\n",
       "      <td>0.0</td>\n",
       "      <td>0.0</td>\n",
       "      <td>0.0</td>\n",
       "      <td>0.0</td>\n",
       "      <td>0.0</td>\n",
       "      <td>0.0</td>\n",
       "      <td>0.0</td>\n",
       "      <td>0.0</td>\n",
       "    </tr>\n",
       "    <tr>\n",
       "      <th>3</th>\n",
       "      <td>angry</td>\n",
       "      <td>-18.088921</td>\n",
       "      <td>-21.651287</td>\n",
       "      <td>-33.590599</td>\n",
       "      <td>-33.207268</td>\n",
       "      <td>-33.168041</td>\n",
       "      <td>-33.159000</td>\n",
       "      <td>-33.631542</td>\n",
       "      <td>-33.123779</td>\n",
       "      <td>-32.370575</td>\n",
       "      <td>...</td>\n",
       "      <td>0.0</td>\n",
       "      <td>0.0</td>\n",
       "      <td>0.0</td>\n",
       "      <td>0.0</td>\n",
       "      <td>0.0</td>\n",
       "      <td>0.0</td>\n",
       "      <td>0.0</td>\n",
       "      <td>0.0</td>\n",
       "      <td>0.0</td>\n",
       "      <td>0.0</td>\n",
       "    </tr>\n",
       "    <tr>\n",
       "      <th>4</th>\n",
       "      <td>neutral</td>\n",
       "      <td>-25.487316</td>\n",
       "      <td>-27.148844</td>\n",
       "      <td>-29.705299</td>\n",
       "      <td>-28.385746</td>\n",
       "      <td>-27.314219</td>\n",
       "      <td>-27.413462</td>\n",
       "      <td>-28.164701</td>\n",
       "      <td>-29.320004</td>\n",
       "      <td>-30.867256</td>\n",
       "      <td>...</td>\n",
       "      <td>0.0</td>\n",
       "      <td>0.0</td>\n",
       "      <td>0.0</td>\n",
       "      <td>0.0</td>\n",
       "      <td>0.0</td>\n",
       "      <td>0.0</td>\n",
       "      <td>0.0</td>\n",
       "      <td>0.0</td>\n",
       "      <td>0.0</td>\n",
       "      <td>0.0</td>\n",
       "    </tr>\n",
       "  </tbody>\n",
       "</table>\n",
       "<p>5 rows × 216 columns</p>\n",
       "</div>"
      ],
      "text/plain": [
       "   emotion          0          1          2          3          4          5  \\\n",
       "0      sad -20.518925 -23.834490 -34.314144 -34.405781 -33.269936 -33.108788   \n",
       "1  disgust -16.197065 -19.808979 -30.304638 -29.123310 -28.933428 -30.415739   \n",
       "2      sad -15.352673 -18.627728 -29.638374 -28.969637 -28.197258 -27.549711   \n",
       "3    angry -18.088921 -21.651287 -33.590599 -33.207268 -33.168041 -33.159000   \n",
       "4  neutral -25.487316 -27.148844 -29.705299 -28.385746 -27.314219 -27.413462   \n",
       "\n",
       "           6          7          8  ...  205  206  207  208  209  210  211  \\\n",
       "0 -34.905071 -33.865349 -33.508564  ...  0.0  0.0  0.0  0.0  0.0  0.0  0.0   \n",
       "1 -30.393351 -31.475573 -30.270222  ...  0.0  0.0  0.0  0.0  0.0  0.0  0.0   \n",
       "2 -27.400560 -27.088848 -29.214334  ...  0.0  0.0  0.0  0.0  0.0  0.0  0.0   \n",
       "3 -33.631542 -33.123779 -32.370575  ...  0.0  0.0  0.0  0.0  0.0  0.0  0.0   \n",
       "4 -28.164701 -29.320004 -30.867256  ...  0.0  0.0  0.0  0.0  0.0  0.0  0.0   \n",
       "\n",
       "   212  213  214  \n",
       "0  0.0  0.0  0.0  \n",
       "1  0.0  0.0  0.0  \n",
       "2  0.0  0.0  0.0  \n",
       "3  0.0  0.0  0.0  \n",
       "4  0.0  0.0  0.0  \n",
       "\n",
       "[5 rows x 216 columns]"
      ]
     },
     "execution_count": 2,
     "metadata": {},
     "output_type": "execute_result"
    }
   ],
   "source": [
    "import librosa\n",
    "\n",
    "# log-mel spectrogram into mfcc\n",
    "\n",
    "logMelSpecVal = []\n",
    "\n",
    "def parse_audio_file(pathToFile, _duration, sampleRate):\n",
    "    # load file\n",
    "    wavf, sample_rate = librosa.load(pathToFile, res_type=\"kaiser_fast\", duration=_duration, sr=sampleRate)\n",
    "    \n",
    "    # get mfcc features (coefficients = 13, filters = 32)\n",
    "    mfcc = np.array([])\n",
    "    mfcc = np.mean(librosa.feature.mfcc(y=wavf, sr=sample_rate, n_mfcc = 13), axis=0)\n",
    "    \n",
    "    return mfcc\n",
    "\n",
    "mfccVal = []\n",
    "\n",
    "for fpath in df['path']:\n",
    "    mfcc = parse_audio_file(fpath, 4, 44100)\n",
    "    mfccVal.append(mfcc)\n",
    "    \n",
    "# merge emotions with features\n",
    "df = pd.concat([df, pd.DataFrame(mfccVal)], axis=1)\n",
    "    \n",
    "# drop unnecessary column\n",
    "df.drop(columns='path', inplace=True)\n",
    "\n",
    "# fill na's\n",
    "df = df.fillna(0)\n",
    "df.head()"
   ]
  },
  {
   "cell_type": "markdown",
   "id": "7e1007a9",
   "metadata": {},
   "source": [
    "# Data split"
   ]
  },
  {
   "cell_type": "code",
   "execution_count": null,
   "id": "3d27be23",
   "metadata": {},
   "outputs": [],
   "source": [
    "from sklearn.model_selection import train_test_split\n",
    "from sklearn.preprocessing import LabelEncoder\n",
    "\n",
    "def data_split(df):\n",
    "    # divide data into labels and features\n",
    "    X = df.iloc[:, :].drop(columns=['emotion'])\n",
    "    y = df['emotion']\n",
    "    \n",
    "    # stratified train, test split\n",
    "    X_train, X_test, y_train, y_test = train_test_split(X, y, test_size=0.2,random_state=0, stratify=y)\n",
    "    \n",
    "    return X_train, X_test, y_train, y_test\n",
    "\n",
    "X_train, X_test, y_train, y_test = data_split(df)\n",
    "\n",
    "print(X_train.head())\n",
    "print(y_train.head())"
   ]
  },
  {
   "cell_type": "markdown",
   "id": "2748de4b",
   "metadata": {},
   "source": [
    "# Data preprocessing"
   ]
  },
  {
   "cell_type": "code",
   "execution_count": null,
   "id": "9550eedd",
   "metadata": {},
   "outputs": [],
   "source": [
    "from keras.utils import to_categorical\n",
    "\n",
    "def data_preprocessing(X_train, X_test, y_train, y_test):\n",
    "\n",
    "    # normalization (z-score, values between -1 and 1)\n",
    "    mean = np.mean(X_train, axis=0)\n",
    "    std = np.std(X_train, axis=0)\n",
    "    X_train = (X_train - mean)/std\n",
    "    X_test = (X_test - mean)/std\n",
    "\n",
    "    # turn data into arrays for keras\n",
    "    X_train = np.array(X_train)\n",
    "    y_train = np.array(y_train)\n",
    "    X_test = np.array(X_test)\n",
    "    y_test = np.array(y_test)\n",
    "\n",
    "    print(y_train.shape)\n",
    "    print(y_test.shape)\n",
    "\n",
    "    # label one hot encoding\n",
    "    lb = LabelEncoder()\n",
    "    y_train = to_categorical(lb.fit_transform(y_train))\n",
    "    y_test = to_categorical(lb.fit_transform(y_test))\n",
    "\n",
    "    print(y_test[0:3])\n",
    "\n",
    "    print(lb.classes_)\n",
    "\n",
    "    # data reshaping\n",
    "    X_train = X_train[:,:,np.newaxis]\n",
    "    X_test = X_test[:,:,np.newaxis]\n",
    "\n",
    "    print(X_train.shape)\n",
    "    \n",
    "    return X_train, X_test, y_train, y_test, lb\n",
    "\n",
    "X_train, X_test, y_train, y_test, lb = data_preprocessing(X_train, X_test, y_train, y_test)"
   ]
  },
  {
   "cell_type": "markdown",
   "id": "2f730bac",
   "metadata": {},
   "source": [
    "# Model architecture\n",
    "\n",
    "- [model architecture info](https://www.researchgate.net/profile/Gregor-Hofer-3/publication/335829168_Analysis_of_Deep_Learning_Architectures_for_Cross-Corpus_Speech_Emotion_Recognition/links/5e2f0a2f4585152d156d9f4f/Analysis-of-Deep-Learning-Architectures-for-Cross-Corpus-Speech-Emotion-Recognition.pdf)"
   ]
  },
  {
   "cell_type": "code",
   "execution_count": null,
   "id": "a2ff8251",
   "metadata": {},
   "outputs": [],
   "source": [
    "import tensorflow as tf\n",
    "from tensorflow import keras\n",
    "from tensorflow.keras import layers\n",
    "from tensorflow.keras.models import Sequential, load_model\n",
    "from keras.regularizers import l2\n",
    "from keras.utils import plot_model\n",
    "\n",
    "def get_model():\n",
    "    #BUILD 1D CNN LAYERS\n",
    "    model = tf.keras.Sequential()\n",
    "    model.add(layers.Conv1D(64, kernel_size=(10), activation='relu', input_shape=(X_train.shape[1],1)))\n",
    "    model.add(layers.Conv1D(128, kernel_size=(10),activation='relu',kernel_regularizer=l2(0.01), bias_regularizer=l2(0.01)))\n",
    "    model.add(layers.MaxPooling1D(pool_size=(8)))\n",
    "    model.add(layers.Dropout(0.4))\n",
    "    model.add(layers.Conv1D(128, kernel_size=(10),activation='relu'))\n",
    "    model.add(layers.MaxPooling1D(pool_size=(8)))\n",
    "    model.add(layers.Dropout(0.4))\n",
    "    model.add(layers.Flatten())\n",
    "    model.add(layers.Dense(256, activation='relu'))\n",
    "    model.add(layers.Dropout(0.4))\n",
    "    model.add(layers.Dense(8, activation='sigmoid'))\n",
    "    opt = keras.optimizers.Adam(lr=0.001)\n",
    "    model.compile(loss='categorical_crossentropy', optimizer=opt,metrics=['accuracy'])\n",
    "    \n",
    "    return model\n",
    "\n",
    "model = get_model()\n",
    "model.summary()"
   ]
  },
  {
   "cell_type": "markdown",
   "id": "78b9190e",
   "metadata": {},
   "source": [
    "# Model training and export"
   ]
  },
  {
   "cell_type": "code",
   "execution_count": null,
   "id": "d7477c5e",
   "metadata": {},
   "outputs": [],
   "source": [
    "from keras.callbacks import ModelCheckpoint\n",
    "\n",
    "# use checkpoints to save best model\n",
    "checkpoint = ModelCheckpoint(modelsPath + 'model_1_CNN', monitor='val_accuracy', verbose=1, save_best_only=True, mode='max')\n",
    "\n",
    "# fit model\n",
    "model_history = model.fit(X_train, y_train, batch_size=32, epochs=40, validation_data=(X_test, y_test), callbacks=[checkpoint], verbose=0)\n",
    "\n",
    "# plot model accuracy and loss over epochs\n",
    "plt.plot(model_history.history['accuracy'])\n",
    "plt.plot(model_history.history['val_accuracy'])\n",
    "plt.title('Model Accuracy')\n",
    "plt.ylabel('Accuracy')\n",
    "plt.xlabel('Epoch')\n",
    "plt.legend(['Train', 'Test'], loc='upper left')\n",
    "plt.savefig(imgsPath + 'Initial_Model_Accuracy.png')\n",
    "plt.show()\n",
    "\n",
    "# summarize history for loss\n",
    "plt.plot(model_history.history['loss'])\n",
    "plt.plot(model_history.history['val_loss'])\n",
    "plt.title('Model Loss')\n",
    "plt.ylabel('Loss')\n",
    "plt.xlabel('Epoch')\n",
    "plt.legend(['train', 'test'], loc='upper left')\n",
    "plt.savefig(imgsPath + 'Initial_Model_loss.png')\n",
    "plt.show()"
   ]
  },
  {
   "cell_type": "markdown",
   "id": "2eb07fc4",
   "metadata": {},
   "source": [
    "# Results"
   ]
  },
  {
   "cell_type": "markdown",
   "id": "f7cdaaad",
   "metadata": {},
   "source": [
    "## accuracy and loss"
   ]
  },
  {
   "cell_type": "code",
   "execution_count": null,
   "id": "6304b732",
   "metadata": {},
   "outputs": [],
   "source": [
    "# loss and accuracy percentage on test set\n",
    "print(\"Loss of the model is - \" , model.evaluate(X_test,y_test)[0])\n",
    "print(\"Accuracy of the model is - \" , model.evaluate(X_test,y_test)[1]*100 , \"%\")"
   ]
  },
  {
   "cell_type": "code",
   "execution_count": null,
   "id": "f02af9d5",
   "metadata": {},
   "outputs": [],
   "source": [
    "# predictions\n",
    "predictions = model.predict(X_test)\n",
    "predictions = predictions.argmax(axis=1)\n",
    "predictions = predictions.astype(int).flatten()\n",
    "predictions = (lb.inverse_transform((predictions)))\n",
    "predictions = pd.DataFrame({'Predicted Values': predictions})\n",
    "\n",
    "# actual labels\n",
    "actual = y_test.argmax(axis=1)\n",
    "actual = actual.astype(int).flatten()\n",
    "actual = (lb.inverse_transform((actual)))\n",
    "actual = pd.DataFrame({'Actual Values': actual})\n",
    "\n",
    "# combine both\n",
    "finaldf = actual.join(predictions)\n",
    "finaldf[1:10]"
   ]
  },
  {
   "cell_type": "markdown",
   "id": "7661f308",
   "metadata": {},
   "source": [
    "## confusion matrix"
   ]
  },
  {
   "cell_type": "code",
   "execution_count": null,
   "id": "7478261b",
   "metadata": {},
   "outputs": [],
   "source": [
    "from sklearn.metrics import confusion_matrix, classification_report\n",
    "\n",
    "# confusion matrix, actual vs predicted\n",
    "cm = confusion_matrix(actual, predictions)\n",
    "plt.figure(figsize = (12, 10))\n",
    "cm = pd.DataFrame(cm , index = [i for i in lb.classes_] , columns = [i for i in lb.classes_])\n",
    "ax = sns.heatmap(cm, linecolor='white', cmap='Blues', linewidth=1, annot=True, fmt='')\n",
    "bottom, top = ax.get_ylim()\n",
    "ax.set_ylim(bottom + 0.5, top - 0.5)\n",
    "plt.title('Confusion Matrix', size=20)\n",
    "plt.xlabel('Predicted Labels', size=14)\n",
    "plt.ylabel('Actual Labels', size=14)\n",
    "plt.savefig(imgsPath + 'Initial_Model_Confusion_Matrix.png')\n",
    "plt.show()"
   ]
  },
  {
   "cell_type": "code",
   "execution_count": null,
   "id": "bd6c5c2b",
   "metadata": {},
   "outputs": [],
   "source": [
    "print(classification_report(actual, predictions, target_names = ['angry', 'calm', 'disgust', 'fearful', 'happy', 'neutral', 'sad', 'surprised']))"
   ]
  }
 ],
 "metadata": {
  "kernelspec": {
   "display_name": "Python 3 (ipykernel)",
   "language": "python",
   "name": "python3"
  },
  "language_info": {
   "codemirror_mode": {
    "name": "ipython",
    "version": 3
   },
   "file_extension": ".py",
   "mimetype": "text/x-python",
   "name": "python",
   "nbconvert_exporter": "python",
   "pygments_lexer": "ipython3",
   "version": "3.9.11"
  }
 },
 "nbformat": 4,
 "nbformat_minor": 5
}
