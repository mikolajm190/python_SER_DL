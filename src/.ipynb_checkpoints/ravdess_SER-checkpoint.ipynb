{
 "cells": [
  {
   "cell_type": "markdown",
   "id": "5553b0f1",
   "metadata": {},
   "source": [
    "# Data preprocessing"
   ]
  },
  {
   "cell_type": "markdown",
   "id": "30d94e55",
   "metadata": {},
   "source": [
    "## emotion label + path to file"
   ]
  },
  {
   "cell_type": "code",
   "execution_count": 1,
   "id": "d7ea6f8b",
   "metadata": {},
   "outputs": [
    {
     "data": {
      "text/html": [
       "<div>\n",
       "<style scoped>\n",
       "    .dataframe tbody tr th:only-of-type {\n",
       "        vertical-align: middle;\n",
       "    }\n",
       "\n",
       "    .dataframe tbody tr th {\n",
       "        vertical-align: top;\n",
       "    }\n",
       "\n",
       "    .dataframe thead th {\n",
       "        text-align: right;\n",
       "    }\n",
       "</style>\n",
       "<table border=\"1\" class=\"dataframe\">\n",
       "  <thead>\n",
       "    <tr style=\"text-align: right;\">\n",
       "      <th></th>\n",
       "      <th>path</th>\n",
       "      <th>emotion</th>\n",
       "    </tr>\n",
       "  </thead>\n",
       "  <tbody>\n",
       "    <tr>\n",
       "      <th>0</th>\n",
       "      <td>../data/ravdess/Audio_Speech_Actors_01-24/Acto...</td>\n",
       "      <td>angry</td>\n",
       "    </tr>\n",
       "    <tr>\n",
       "      <th>1</th>\n",
       "      <td>../data/ravdess/Audio_Speech_Actors_01-24/Acto...</td>\n",
       "      <td>angry</td>\n",
       "    </tr>\n",
       "    <tr>\n",
       "      <th>2</th>\n",
       "      <td>../data/ravdess/Audio_Speech_Actors_01-24/Acto...</td>\n",
       "      <td>fearful</td>\n",
       "    </tr>\n",
       "    <tr>\n",
       "      <th>3</th>\n",
       "      <td>../data/ravdess/Audio_Speech_Actors_01-24/Acto...</td>\n",
       "      <td>calm</td>\n",
       "    </tr>\n",
       "    <tr>\n",
       "      <th>4</th>\n",
       "      <td>../data/ravdess/Audio_Speech_Actors_01-24/Acto...</td>\n",
       "      <td>happy</td>\n",
       "    </tr>\n",
       "    <tr>\n",
       "      <th>...</th>\n",
       "      <td>...</td>\n",
       "      <td>...</td>\n",
       "    </tr>\n",
       "    <tr>\n",
       "      <th>2447</th>\n",
       "      <td>../data/ravdess/Audio_Song_Actors_01-24/Actor_...</td>\n",
       "      <td>happy</td>\n",
       "    </tr>\n",
       "    <tr>\n",
       "      <th>2448</th>\n",
       "      <td>../data/ravdess/Audio_Song_Actors_01-24/Actor_...</td>\n",
       "      <td>fearful</td>\n",
       "    </tr>\n",
       "    <tr>\n",
       "      <th>2449</th>\n",
       "      <td>../data/ravdess/Audio_Song_Actors_01-24/Actor_...</td>\n",
       "      <td>angry</td>\n",
       "    </tr>\n",
       "    <tr>\n",
       "      <th>2450</th>\n",
       "      <td>../data/ravdess/Audio_Song_Actors_01-24/Actor_...</td>\n",
       "      <td>fearful</td>\n",
       "    </tr>\n",
       "    <tr>\n",
       "      <th>2451</th>\n",
       "      <td>../data/ravdess/Audio_Song_Actors_01-24/Actor_...</td>\n",
       "      <td>sad</td>\n",
       "    </tr>\n",
       "  </tbody>\n",
       "</table>\n",
       "<p>2452 rows × 2 columns</p>\n",
       "</div>"
      ],
      "text/plain": [
       "                                                   path  emotion\n",
       "0     ../data/ravdess/Audio_Speech_Actors_01-24/Acto...    angry\n",
       "1     ../data/ravdess/Audio_Speech_Actors_01-24/Acto...    angry\n",
       "2     ../data/ravdess/Audio_Speech_Actors_01-24/Acto...  fearful\n",
       "3     ../data/ravdess/Audio_Speech_Actors_01-24/Acto...     calm\n",
       "4     ../data/ravdess/Audio_Speech_Actors_01-24/Acto...    happy\n",
       "...                                                 ...      ...\n",
       "2447  ../data/ravdess/Audio_Song_Actors_01-24/Actor_...    happy\n",
       "2448  ../data/ravdess/Audio_Song_Actors_01-24/Actor_...  fearful\n",
       "2449  ../data/ravdess/Audio_Song_Actors_01-24/Actor_...    angry\n",
       "2450  ../data/ravdess/Audio_Song_Actors_01-24/Actor_...  fearful\n",
       "2451  ../data/ravdess/Audio_Song_Actors_01-24/Actor_...      sad\n",
       "\n",
       "[2452 rows x 2 columns]"
      ]
     },
     "execution_count": 1,
     "metadata": {},
     "output_type": "execute_result"
    }
   ],
   "source": [
    "#!/home/judehey/miniconda3/envs/myenv/bin/python\n",
    "\n",
    "import pandas as pd\n",
    "import numpy as np\n",
    "import os\n",
    "\n",
    "pathToData=\"../data/ravdess/\"\n",
    "imgsPath=\"../imgs/ravdess/\"\n",
    "modelsPath=\"../models/ravdess/\"\n",
    "\n",
    "def load_data(path):\n",
    "    emotion, file_path = [], []\n",
    "    \n",
    "    # iterate over song, speech folders, every actor subfolder and audio files in\n",
    "    for folder in os.listdir(path):\n",
    "        for subfolder in os.listdir(path + folder):\n",
    "            for file in os.listdir(path + folder + \"/\" + subfolder):\n",
    "                emotion.append(file.split(\"-\")[2])\n",
    "                file_path.append(path + folder + \"/\" + subfolder + \"/\" + file)\n",
    "                \n",
    "    # prepare dataframe\n",
    "    audio_df = pd.DataFrame(emotion)\n",
    "    audio_df = audio_df.replace({\"01\": \"neutral\", \"02\": \"calm\", \"03\": \"happy\", \"04\": \"sad\", \"05\": \"angry\", \"06\": \"fearful\", \"07\": \"disgust\", \"08\": \"surprised\"})\n",
    "    \n",
    "    # concatenate file paths to emotion data frame\n",
    "    audio_df = pd.concat([pd.DataFrame(file_path), audio_df], axis=1)\n",
    "    audio_df.columns = ['path', 'emotion']\n",
    "    \n",
    "    return audio_df\n",
    "\n",
    "df = load_data(pathToData)\n",
    "df"
   ]
  },
  {
   "cell_type": "markdown",
   "id": "0e7d8c62",
   "metadata": {},
   "source": [
    "# Feature extraction"
   ]
  },
  {
   "cell_type": "code",
   "execution_count": null,
   "id": "1d15e283",
   "metadata": {},
   "outputs": [],
   "source": []
  }
 ],
 "metadata": {
  "kernelspec": {
   "display_name": "Python 3 (ipykernel)",
   "language": "python",
   "name": "python3"
  },
  "language_info": {
   "codemirror_mode": {
    "name": "ipython",
    "version": 3
   },
   "file_extension": ".py",
   "mimetype": "text/x-python",
   "name": "python",
   "nbconvert_exporter": "python",
   "pygments_lexer": "ipython3",
   "version": "3.9.7"
  }
 },
 "nbformat": 4,
 "nbformat_minor": 5
}
